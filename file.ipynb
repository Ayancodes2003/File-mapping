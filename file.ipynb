{
 "cells": [
  {
   "cell_type": "code",
   "execution_count": 2,
   "id": "ccbfa865",
   "metadata": {},
   "outputs": [
    {
     "name": "stderr",
     "output_type": "stream",
     "text": [
      "  % Total    % Received % Xferd  Average Speed   Time    Time     Time  Current\n",
      "                                 Dload  Upload   Total   Spent    Left  Speed\n",
      "\n",
      "  0     0    0     0    0     0      0      0 --:--:-- --:--:-- --:--:--     0\n",
      "  0     0    0     0    0     0      0      0 --:--:-- --:--:-- --:--:--     0\n",
      "  3 63.2M    3 2117k    0     0  1892k      0  0:00:34  0:00:01  0:00:33 1895k\n",
      "  8 63.2M    8 5396k    0     0  2584k      0  0:00:25  0:00:02  0:00:23 2587k\n",
      " 15 63.2M   15 10.0M    0     0  3270k      0  0:00:19  0:00:03  0:00:16 3272k\n",
      " 20 63.2M   20 12.9M    0     0  3245k      0  0:00:19  0:00:04  0:00:15 3247k\n",
      " 27 63.2M   27 17.4M    0     0  3502k      0  0:00:18  0:00:05  0:00:13 3565k\n",
      " 33 63.2M   33 21.1M    0     0  3542k      0  0:00:18  0:00:06  0:00:12 3912k\n",
      " 41 63.2M   41 26.0M    0     0  3752k      0  0:00:17  0:00:07  0:00:10 4238k\n",
      " 47 63.2M   47 30.0M    0     0  3798k      0  0:00:17  0:00:08  0:00:09 4133k\n",
      " 54 63.2M   54 34.3M    0     0  3865k      0  0:00:16  0:00:09  0:00:07 4371k\n",
      " 60 63.2M   60 38.2M    0     0  3886k      0  0:00:16  0:00:10  0:00:06 4278k\n",
      " 64 63.2M   64 41.0M    0     0  3776k      0  0:00:17  0:00:11  0:00:06 4061k\n",
      " 70 63.2M   70 44.8M    0     0  3800k      0  0:00:17  0:00:12  0:00:05 3869k\n",
      " 75 63.2M   75 48.0M    0     0  3759k      0  0:00:17  0:00:13  0:00:04 3696k\n",
      " 83 63.2M   83 52.9M    0     0  3849k      0  0:00:16  0:00:14  0:00:02 3822k\n",
      " 91 63.2M   91 57.9M    0     0  3934k      0  0:00:16  0:00:15  0:00:01 4031k\n",
      " 99 63.2M   99 62.6M    0     0  3987k      0  0:00:16  0:00:16 --:--:-- 4462k\n",
      "100 63.2M  100 63.2M    0     0  3997k      0  0:00:16  0:00:16 --:--:-- 4575k\n"
     ]
    }
   ],
   "source": [
    "!curl \"https://awscli.amazonaws.com/awscli-exe-linux-x86_64.zip\" -o \"awscliv2.zip\""
   ]
  },
  {
   "cell_type": "code",
   "execution_count": 6,
   "id": "ab70e923",
   "metadata": {},
   "outputs": [],
   "source": [
    "import zipfile\n",
    "with zipfile.ZipFile(\"awscliv2.zip\", 'r') as zip_ref:\n",
    "    zip_ref.extractall(\"awscli_extracted\")\n"
   ]
  },
  {
   "cell_type": "code",
   "execution_count": 7,
   "id": "37b86b31",
   "metadata": {},
   "outputs": [
    {
     "name": "stderr",
     "output_type": "stream",
     "text": [
      "Sudo is disabled on this machine. To enable it, go to the \u001b]8;;ms-settings:developers\u001b\\Developer Settings page\u001b]8;;\u001b\\ in the Settings app\n"
     ]
    }
   ],
   "source": [
    "!sudo ./aws/install"
   ]
  },
  {
   "cell_type": "code",
   "execution_count": 10,
   "id": "4104377a",
   "metadata": {},
   "outputs": [
    {
     "name": "stdout",
     "output_type": "stream",
     "text": [
      "[WinError 2] The system cannot find the file specified: 'awscli_extracted'\n",
      "d:\\PROJECTS  GITHUB\\legal-citation-linker\\awscli_extracted\n"
     ]
    },
    {
     "name": "stderr",
     "output_type": "stream",
     "text": [
      "'.\\aws\\install.cmd' is not recognized as an internal or external command,\n",
      "operable program or batch file.\n"
     ]
    }
   ],
   "source": [
    "%cd awscli_extracted\n",
    "!.\\aws\\install.cmd\n"
   ]
  },
  {
   "cell_type": "code",
   "execution_count": null,
   "id": "bdfe159f",
   "metadata": {},
   "outputs": [],
   "source": []
  }
 ],
 "metadata": {
  "kernelspec": {
   "display_name": "venv",
   "language": "python",
   "name": "python3"
  },
  "language_info": {
   "codemirror_mode": {
    "name": "ipython",
    "version": 3
   },
   "file_extension": ".py",
   "mimetype": "text/x-python",
   "name": "python",
   "nbconvert_exporter": "python",
   "pygments_lexer": "ipython3",
   "version": "3.12.6"
  }
 },
 "nbformat": 4,
 "nbformat_minor": 5
}
